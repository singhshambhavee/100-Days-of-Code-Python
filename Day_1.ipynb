# Brand Name Generator
print("Welcome to Band Name generator.\n")
first_name = input("What's name of the city you grew up in?\n")
last_name = input("What's your pet's name?\n")
print("Your Band Name could be : "first_name + " " + last_name)
